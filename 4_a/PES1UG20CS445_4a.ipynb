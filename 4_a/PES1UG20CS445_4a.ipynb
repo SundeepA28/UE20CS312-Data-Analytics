{
 "cells": [
  {
   "cell_type": "markdown",
   "id": "43293aa1",
   "metadata": {
    "id": "43293aa1"
   },
   "source": [
    " # <center>  UE20CS312 - Data Analytics\n",
    "## <center> Worksheet 4a - Collaborative & Content based filtering\n",
    "####    <center> PES University\n",
    "### <center> SUNDEEP A , Dept of CSE - PES1UG20CS445"
   ]
  },
  {
   "cell_type": "markdown",
   "id": "6e54bb19",
   "metadata": {
    "id": "6e54bb19"
   },
   "source": [
    "### Collaborative & Content based filtering\n",
    "The **Collaborative filtering method** for recommender systems is a method that is solely based on the past interactions that have been recorded between users and items, in order to produce new recommendations.\n",
    "\n",
    "The **Content-based** approach uses additional information about users and/or items. The Content-based approach requires a good amount of information about items’ features, rather than using the user’s interactions and feedback."
   ]
  },
  {
   "cell_type": "markdown",
   "id": "85df931b",
   "metadata": {
    "id": "85df931b"
   },
   "source": [
    "### Prerequisites\n",
    "- Revise the following concepts\n",
    "    - TF-IDF\n",
    "    - Content-based filtering\n",
    "    - Cosine Similarity\n",
    "- Install the following software\n",
    "    - pandas\n",
    "    - numpy\n",
    "    - sklearn"
   ]
  },
  {
   "cell_type": "markdown",
   "id": "91724e19",
   "metadata": {
    "id": "91724e19"
   },
   "source": [
    "### Task\n",
    "After the disastrous pitfall of [Game of Thrones season 8](https://en.wikipedia.org/wiki/Game_of_Thrones_(season_8)), George R. R. Martin set out to fix mindless mistakes caused by the producers David and Daniel.\n",
    "\n",
    "A few years down the line, we now are witnessing George R. R. Martin's latest work: [House of the Dragon](https://www.hotstar.com/in/tv/house-of-the-dragon/1260110208). This series is a story of the Targaryen civil war that took place about 200 years before events portrayed in Game of Thrones.\n",
    "\n",
    "In this notebook you will be exploring and analying tweets related to The House of Dragon TV series. First we shall tokenize the textual data using TF-IDF. Then we will proceed to find the top-k most similar tweets using cosine similarity between the transformed vectors.\n",
    "\n",
    "The dataset has been extracted using the [Twitter API](https://developer.twitter.com/en/docs/twitter-api) by utilizing a specific search query. The data has been extensively preprocessed and a small subset has been stored within the `twitter_HOTD_DA_WORKSHEET4A.csv`\n",
    "\n",
    "**Note:** This notebook may contain spoilers to the show."
   ]
  },
  {
   "cell_type": "markdown",
   "id": "b52f6a91",
   "metadata": {
    "id": "b52f6a91"
   },
   "source": [
    "### Data Dictionary\n",
    "**author_id**: A unique identifier assigned to the twitter user.\n",
    "\n",
    "**tweet_id**: A unique identifier assigned to the tweet.\n",
    "\n",
    "**text**: The text associated with the tweet.\n",
    "\n",
    "**retweet_count**: The number of retweets for this particular tweet.\n",
    "\n",
    "**reply_count**: The number of replies for this particular tweet.\n",
    "\n",
    "**like_count**: The number of likes for this particular tweet.\n",
    "\n",
    "**quote_count**: The number of quotes for this particular tweet.\n",
    "\n",
    "**tokens**: List of word tokens extracted from `text`.\n",
    "\n",
    "**hashtags**: List of hashtags extracted from `text`."
   ]
  },
  {
   "cell_type": "markdown",
   "id": "4367b508",
   "metadata": {
    "id": "4367b508"
   },
   "source": [
    "### Points\n",
    "The problems in this worksheet are for a total of 10 points with each problem having a different weightage.\n",
    "- Problem 1: 4 points\n",
    "- Problem 2: 4 points\n",
    "- Problem 3: 2 points"
   ]
  },
  {
   "cell_type": "markdown",
   "id": "350d259e",
   "metadata": {
    "id": "350d259e"
   },
   "source": [
    "### Loading the dataset"
   ]
  },
  {
   "cell_type": "code",
   "execution_count": 1,
   "id": "d37bcaf7",
   "metadata": {
    "id": "d37bcaf7",
    "outputId": "1cd0ac69-3376-423c-8aa6-583f13ab837e",
    "scrolled": true
   },
   "outputs": [
    {
     "data": {
      "text/html": [
       "<div>\n",
       "<style scoped>\n",
       "    .dataframe tbody tr th:only-of-type {\n",
       "        vertical-align: middle;\n",
       "    }\n",
       "\n",
       "    .dataframe tbody tr th {\n",
       "        vertical-align: top;\n",
       "    }\n",
       "\n",
       "    .dataframe thead th {\n",
       "        text-align: right;\n",
       "    }\n",
       "</style>\n",
       "<table border=\"1\" class=\"dataframe\">\n",
       "  <thead>\n",
       "    <tr style=\"text-align: right;\">\n",
       "      <th></th>\n",
       "      <th>author_id</th>\n",
       "      <th>tweet_id</th>\n",
       "      <th>text</th>\n",
       "      <th>retweet_count</th>\n",
       "      <th>reply_count</th>\n",
       "      <th>like_count</th>\n",
       "      <th>quote_count</th>\n",
       "      <th>tokens</th>\n",
       "      <th>hashtags</th>\n",
       "    </tr>\n",
       "  </thead>\n",
       "  <tbody>\n",
       "    <tr>\n",
       "      <th>0</th>\n",
       "      <td>1576486223442583554</td>\n",
       "      <td>1577813753902555136</td>\n",
       "      <td>rt i would perform my duty if mother had only ...</td>\n",
       "      <td>327</td>\n",
       "      <td>0</td>\n",
       "      <td>0</td>\n",
       "      <td>0</td>\n",
       "      <td>['perform', 'duty', 'mother', 'betrothed']</td>\n",
       "      <td>['houseofthedragon', 'aemondtargaryen', 'helae...</td>\n",
       "    </tr>\n",
       "    <tr>\n",
       "      <th>1</th>\n",
       "      <td>732912167846973441</td>\n",
       "      <td>1577813747846254592</td>\n",
       "      <td>rt viserys look at me!! aemond #houseofthedragon</td>\n",
       "      <td>2164</td>\n",
       "      <td>0</td>\n",
       "      <td>0</td>\n",
       "      <td>0</td>\n",
       "      <td>['viserys', 'look', 'aemond']</td>\n",
       "      <td>['houseofthedragon']</td>\n",
       "    </tr>\n",
       "    <tr>\n",
       "      <th>2</th>\n",
       "      <td>891426095928672257</td>\n",
       "      <td>1577813743794257920</td>\n",
       "      <td>rt house of the dragon is a show about a king ...</td>\n",
       "      <td>905</td>\n",
       "      <td>0</td>\n",
       "      <td>0</td>\n",
       "      <td>0</td>\n",
       "      <td>['house', 'dragon', 'king', 'bunch', 'question...</td>\n",
       "      <td>[]</td>\n",
       "    </tr>\n",
       "    <tr>\n",
       "      <th>3</th>\n",
       "      <td>352012951</td>\n",
       "      <td>1577813724366249986</td>\n",
       "      <td>man just thinking of when viserys finally croa...</td>\n",
       "      <td>0</td>\n",
       "      <td>0</td>\n",
       "      <td>0</td>\n",
       "      <td>0</td>\n",
       "      <td>['man', 'thinking', 'viserys', 'finally', 'cro...</td>\n",
       "      <td>['houseofthedragon']</td>\n",
       "    </tr>\n",
       "    <tr>\n",
       "      <th>4</th>\n",
       "      <td>1090278774925611008</td>\n",
       "      <td>1577813708818059264</td>\n",
       "      <td>rt jajaja. #houseofthedragon</td>\n",
       "      <td>29</td>\n",
       "      <td>0</td>\n",
       "      <td>0</td>\n",
       "      <td>0</td>\n",
       "      <td>['jajaja']</td>\n",
       "      <td>['houseofthedragon']</td>\n",
       "    </tr>\n",
       "  </tbody>\n",
       "</table>\n",
       "</div>"
      ],
      "text/plain": [
       "             author_id             tweet_id  \\\n",
       "0  1576486223442583554  1577813753902555136   \n",
       "1   732912167846973441  1577813747846254592   \n",
       "2   891426095928672257  1577813743794257920   \n",
       "3            352012951  1577813724366249986   \n",
       "4  1090278774925611008  1577813708818059264   \n",
       "\n",
       "                                                text  retweet_count  \\\n",
       "0  rt i would perform my duty if mother had only ...            327   \n",
       "1   rt viserys look at me!! aemond #houseofthedragon           2164   \n",
       "2  rt house of the dragon is a show about a king ...            905   \n",
       "3  man just thinking of when viserys finally croa...              0   \n",
       "4                       rt jajaja. #houseofthedragon             29   \n",
       "\n",
       "   reply_count  like_count  quote_count  \\\n",
       "0            0           0            0   \n",
       "1            0           0            0   \n",
       "2            0           0            0   \n",
       "3            0           0            0   \n",
       "4            0           0            0   \n",
       "\n",
       "                                              tokens  \\\n",
       "0         ['perform', 'duty', 'mother', 'betrothed']   \n",
       "1                      ['viserys', 'look', 'aemond']   \n",
       "2  ['house', 'dragon', 'king', 'bunch', 'question...   \n",
       "3  ['man', 'thinking', 'viserys', 'finally', 'cro...   \n",
       "4                                         ['jajaja']   \n",
       "\n",
       "                                            hashtags  \n",
       "0  ['houseofthedragon', 'aemondtargaryen', 'helae...  \n",
       "1                               ['houseofthedragon']  \n",
       "2                                                 []  \n",
       "3                               ['houseofthedragon']  \n",
       "4                               ['houseofthedragon']  "
      ]
     },
     "execution_count": 1,
     "metadata": {},
     "output_type": "execute_result"
    }
   ],
   "source": [
    "# Import pandas\n",
    "import pandas as pd\n",
    "# Use pandas read_csv function to load csv as DataFrame\n",
    "df = pd.read_csv('./twitter_HOTD_DA_WORKSHEET4A.csv')\n",
    "df.head(5)"
   ]
  },
  {
   "cell_type": "markdown",
   "id": "d1d2e21c",
   "metadata": {
    "id": "d1d2e21c"
   },
   "source": [
    "### Problem 1 (4 points)\n",
    "\n",
    "Tokenize the string representations provided in the **tokens** column of the DataFrame using TF-IDF from sklearn. Then print out the TF-IDF of the first row of the DataFrame.\n",
    "\n",
    "Solution Steps:\n",
    "1. Initialize the `TfidfVectorizer()`\n",
    "2. Use the `.fit_transform()` method on the entire text\n",
    "3. `.transform()` the Text\n",
    "4. Print number of samples and features using `.shape`\n",
    "5. Print the TF-IDF of the first row\n",
    "\n",
    "For futher reference: https://www.analyticsvidhya.com/blog/2021/09/creating-a-movie-reviews-classifier-using-tf-idf-in-python/"
   ]
  },
  {
   "cell_type": "code",
   "execution_count": 2,
   "id": "e9962516",
   "metadata": {
    "id": "e9962516"
   },
   "outputs": [],
   "source": [
    "# Imports\n",
    "import numpy as np \n",
    "from sklearn.feature_extraction.text import TfidfVectorizer\n",
    "from sklearn.feature_extraction.text import TfidfTransformer\n"
   ]
  },
  {
   "cell_type": "code",
   "execution_count": 3,
   "id": "30b80d7b",
   "metadata": {
    "id": "30b80d7b",
    "outputId": "0494bce7-0498-4a28-eafb-96cff5e5180d",
    "scrolled": true
   },
   "outputs": [],
   "source": [
    "# Convert string representation of a list into a list of strings\n",
    "import ast\n",
    "text = []\n",
    "for r in df['tokens']:\n",
    "    res = ast.literal_eval(r)\n",
    "    if(' '.join(res).lower() == ''):\n",
    "        print(r)\n",
    "    text.append(' '.join(res).lower())\n",
    "# Print the end result\n",
    "#text"
   ]
  },
  {
   "cell_type": "code",
   "execution_count": 4,
   "id": "737e05fb",
   "metadata": {},
   "outputs": [
    {
     "name": "stdout",
     "output_type": "stream",
     "text": [
      "Number of Samples: 8061 \n",
      "  Number of features: 10950\n"
     ]
    }
   ],
   "source": [
    "#part 1:\n",
    "tf_idf_vect = TfidfVectorizer()\n",
    "#part 2:\n",
    "fit_text = tf_idf_vect.fit_transform(text)\n",
    "fit_text\n",
    "#part 3:\n",
    "fit_text = tf_idf_vect.transform(text)\n",
    "fit_text\n",
    "#part 4:\n",
    "print(\"Number of Samples: %d \\n  Number of features: %d\" % fit_text.shape)\n"
   ]
  },
  {
   "cell_type": "code",
   "execution_count": 5,
   "id": "30fc2be2",
   "metadata": {},
   "outputs": [
    {
     "name": "stdout",
     "output_type": "stream",
     "text": [
      "TF-IDF of First row are : \n",
      "   (0, 7080)\t0.5632689245894086\n",
      "  (0, 6277)\t0.3774828944719565\n",
      "  (0, 3021)\t0.47218947633853087\n",
      "  (0, 1054)\t0.5632689245894086\n"
     ]
    }
   ],
   "source": [
    "#Part 5:\n",
    "print(\"TF-IDF of First row are : \\n\",fit_text[0])"
   ]
  },
  {
   "cell_type": "markdown",
   "id": "a148335d",
   "metadata": {
    "id": "a148335d"
   },
   "source": [
    "### Problem 2 (4 points)\n",
    "\n",
    "Find the top-5 most similar tweets to the tweet with index `7558` using cosine similarity between the TF-IDF vectors.\n",
    "\n",
    "Solution Steps:\n",
    "1. Import `cosine_similarity` from sklearn.metrics.pairwise\n",
    "2. Compute `cosine_similarity` using text_tf with index `7558` and all other rows\n",
    "3. Use `argsort` to sort the cosine_similarity results\n",
    "4. Print indices of top-5 most similar results from sorted array (hint: argsort sorts in ascending order)\n",
    "5. Display text of top-5 most similar results using `df.iloc[index]`"
   ]
  },
  {
   "cell_type": "code",
   "execution_count": 6,
   "id": "f14e54e6",
   "metadata": {},
   "outputs": [
    {
     "name": "stdout",
     "output_type": "stream",
     "text": [
      "viserys wanna build lego set mind business let man live peace\n",
      "rt viserys just wanna build his lego set and mind his business . let that man live in peace #houseofthedragon\n"
     ]
    }
   ],
   "source": [
    "# Print out the tokens from index `7654`\n",
    "print(text[7558])\n",
    "# Print out the text from index `7654`\n",
    "print(df.iloc[7558][2])"
   ]
  },
  {
   "cell_type": "code",
   "execution_count": 7,
   "id": "828f9966",
   "metadata": {
    "id": "828f9966",
    "outputId": "9ec37cd6-3ff7-4cac-b4ad-0070d0f09b99",
    "scrolled": true
   },
   "outputs": [],
   "source": [
    "#part 1:\n",
    "from sklearn.metrics.pairwise import cosine_similarity"
   ]
  },
  {
   "cell_type": "code",
   "execution_count": 8,
   "id": "8d66215c",
   "metadata": {},
   "outputs": [
    {
     "name": "stdout",
     "output_type": "stream",
     "text": [
      "[[0.         0.10725007 0.         ... 0.         0.         0.        ]]\n"
     ]
    }
   ],
   "source": [
    "#part 2:\n",
    "similarity_measure_cosine = cosine_similarity(fit_text[7558], fit_text)\n",
    "print(similarity_measure_cosine)"
   ]
  },
  {
   "cell_type": "code",
   "execution_count": 9,
   "id": "85da0482",
   "metadata": {},
   "outputs": [
    {
     "name": "stdout",
     "output_type": "stream",
     "text": [
      "[[   0 5294 5293 ... 3656 7558 7595]]\n"
     ]
    }
   ],
   "source": [
    "#part 3:\n",
    "similarity_measure_cosine_sorted = similarity_measure_cosine.argsort()\n",
    "print(similarity_measure_cosine_sorted)"
   ]
  },
  {
   "cell_type": "code",
   "execution_count": 10,
   "id": "3a33f80a",
   "metadata": {},
   "outputs": [
    {
     "data": {
      "text/plain": [
       "[7595, 3656, 6548, 7705, 3534]"
      ]
     },
     "execution_count": 10,
     "metadata": {},
     "output_type": "execute_result"
    }
   ],
   "source": [
    "#part 4:\n",
    "top_5_similar = similarity_measure_cosine_sorted[0][-6:]\n",
    "top_5_similar = top_5_similar[::-1]\n",
    "#Since we want to find the top 5 similar to index 7558 , we exclude 7558 \n",
    "top_5_similar = [i for i in top_5_similar if i!=7558]\n",
    "top_5_similar\n"
   ]
  },
  {
   "cell_type": "code",
   "execution_count": 11,
   "id": "dd8125aa",
   "metadata": {},
   "outputs": [
    {
     "data": {
      "text/plain": [
       "7595    viserys just wanna build his lego set and mind...\n",
       "3656    rt my man's literally just trying to build a l...\n",
       "6548    rt daemon and rhaenyra are never letting this ...\n",
       "7705    mom said it's my turn on the valyrian lego set...\n",
       "3534    rt don't play with them. they're here for busi...\n",
       "Name: text, dtype: object"
      ]
     },
     "execution_count": 11,
     "metadata": {},
     "output_type": "execute_result"
    }
   ],
   "source": [
    "#Part 5\n",
    "df.iloc[top_5_similar[:]].text"
   ]
  },
  {
   "cell_type": "markdown",
   "id": "dc084c7a",
   "metadata": {
    "id": "dc084c7a"
   },
   "source": [
    "### Problem 3 (2 point)\n",
    "\n",
    "A great disadvantage in using TF-IDF is that it can not capture semantics. If you had classify tweets into positive/negative, what technique would you use to map words to vectors? In short words, provide the sequence of solution steps to solve this task. Note: Assume sentiment labels have been provided. \n",
    "\n",
    "(Hint: take a look at how I've provided solution steps in previous problems)"
   ]
  },
  {
   "cell_type": "raw",
   "id": "d3a2119c",
   "metadata": {},
   "source": [
    "Word2Vec can be used to map words to vectors.<br>\n",
    "\n",
    "Solution Steps :<br>\n",
    "    Step 1 : Import Word2Vec from gemsim.models<br>\n",
    "    Step 2 : Tokenize the sentence into words<br>\n",
    "    Step 3 : Creating the word embeddings[Building/Training the Word2Vec model]<br>\n",
    "    Step 4 : Evaluate the model [This can be done by Cosine Similarity of the two words you enter.]<br>\n",
    "             "
   ]
  }
 ],
 "metadata": {
  "colab": {
   "collapsed_sections": [],
   "provenance": []
  },
  "kernelspec": {
   "display_name": "Python 3 (ipykernel)",
   "language": "python",
   "name": "python3"
  },
  "language_info": {
   "codemirror_mode": {
    "name": "ipython",
    "version": 3
   },
   "file_extension": ".py",
   "mimetype": "text/x-python",
   "name": "python",
   "nbconvert_exporter": "python",
   "pygments_lexer": "ipython3",
   "version": "3.8.12"
  }
 },
 "nbformat": 4,
 "nbformat_minor": 5
}
