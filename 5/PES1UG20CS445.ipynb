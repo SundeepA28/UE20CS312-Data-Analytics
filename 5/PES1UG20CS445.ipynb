{
 "cells": [
  {
   "cell_type": "markdown",
   "metadata": {
    "id": "c6sJ6BEOzkKN"
   },
   "source": [
    " # <center>  UE20CS312 - Data Analytics\n",
    "## <center> Worksheet 5 - Markov Chains and AB Testing\n",
    "####    <center> PES University\n",
    "### <center> SUNDEEP A , Dept of CSE - PES1UG20CS445"
   ]
  },
  {
   "cell_type": "markdown",
   "metadata": {
    "id": "_GsPyyRnEXzY"
   },
   "source": [
    "# Markov Chains and AB Testing"
   ]
  },
  {
   "cell_type": "markdown",
   "metadata": {
    "id": "a_2sqyzBD8qS"
   },
   "source": [
    "### Prerequisites\n",
    "- Revise the following concepts\n",
    "    - Markov Chains\n",
    "    - Markov Chains with Absorbing states\n",
    "    - Calculation of eventual probability of aborbtion\n",
    "    - A/B Testing\n",
    "- Install the following software\n",
    "    - pandas\n",
    "    - numpy"
   ]
  },
  {
   "cell_type": "markdown",
   "metadata": {
    "id": "RAkRls2vElow"
   },
   "source": [
    "### Points\n",
    "The problems in this worksheet are for a total of 10 points with each problem having a different weightage.\n",
    "- Problem 1: 2 points\n",
    "- Problem 2: 4 points\n",
    "- Problem 3: 4 points"
   ]
  },
  {
   "cell_type": "markdown",
   "metadata": {
    "id": "85iOffRu2nhi"
   },
   "source": [
    "# Scenario 2\n",
    "\n",
    "Its a freezing day in New york, Commisioner Wench has sent a report to Captain Holt that the 99th precinct has much lower reported crimes compared to other precincts. Upon Analysis Captain Holt decides to add feedback unit along with the 4 major units to analyse this descripency. All the units are mentioned below\n",
    "\n",
    "1.   Major Crimes\n",
    "2.   Traffic\n",
    "3.   General crimes\n",
    "4.   Feedback\n",
    "5.   Theft\n",
    "\n",
    "---\n",
    "---\n",
    "<br>\n",
    "\n",
    "The initial probablity of a person going to a particular unit on a particular day is given as follows\n",
    "\n",
    "\n",
    "<br>\n",
    "\n",
    "Major Crimes | Traffic | General crimes | Feedback | Theft\n",
    ":----------: | :-----: | :------------: | :--------: | :---:\n",
    "0.3 | 0.4 | 0.1 | 0.15 | 0.05 \n",
    "<br>\n",
    "\n",
    "\n",
    "To measure how many people will go to the feedback unit, the personel files of all employees are give to the **_Move-o-Tron 99_** and it gives us the following matrix which shows us the probability of people moving from one unit to another on a particular day . It is known that the **_Move-o-Tron 99_** alwasy outputs matices which follow a first order Markov chain. \n",
    "\n",
    "| |Major Crimes|Traffic|General crimes|Feedback|Theft|\n",
    "|---|---|---|---|---|---|\n",
    "|Major Crimes|0\\.002|0\\.666|0\\.31|0\\.0|0\\.022|\n",
    "|Traffic|0\\.466|0\\.102|0\\.222|0\\.0|0\\.21|\n",
    "|General crimes|0\\.022|0\\.11|0\\.502|0\\.0|0\\.366|\n",
    "|Feedback|0\\.0|0\\.0|0\\.0|1\\.0|0\\.0|\n",
    "|Theft|0\\.11|0\\.122|0\\.066|0\\.0|0\\.702|\n",
    "\n",
    "As the people of New York are smart the will learn where all the units are present and hence the next days (day 1) distribution will be the distribution present at the end of the current day (day 0). Captain holt want to check if the matrix given by the **_Move-o-Tron_** can be used to model the footfall.\n",
    "\n"
   ]
  },
  {
   "cell_type": "markdown",
   "metadata": {
    "id": "huFKsPfVqWJC"
   },
   "source": [
    "## Problem 1 (2 points)\n",
    "\n",
    "1. What technique can be used to model the probability of people going to the correct unit to report thier crime after N days? (0 points)\n",
    "2. Is the chain irreducible? Justify (0.5 point)\n",
    "3. What will be the intital probability of a person going to a particular unit after 1 day, 2 days, 10 days, 1000 days and 1001 days. (1 point)\n",
    " \n",
    " Hint: Use the  Chapman−Kolmogorov relationship\n",
    "\n",
    "     ```python\n",
    "    # C = A.B\n",
    "    matrix_C = np.dot(matrix_A, matrix_B)\n",
    "\n",
    "    # C = A.(B^4) can be replaced by\n",
    "    matrix_C = matrix_A\n",
    "    for _ in range(4):\n",
    "        matrix_C = np.dot(matrix_C, matrix_B)\n",
    "    ```\n",
    "\n",
    "4. What can you say about the markov chain from state of intital probability of a person going to a particular unit after 1000 and 1001 days? (0.5 points)"
   ]
  },
  {
   "cell_type": "code",
   "execution_count": 1,
   "metadata": {
    "id": "suNEfAXfy9dA"
   },
   "outputs": [],
   "source": [
    "# Importing Libraries\n",
    "%matplotlib inline\n",
    "import numpy as np\n",
    "import pandas as pd\n",
    "import matplotlib.pyplot as plt\n"
   ]
  },
  {
   "cell_type": "code",
   "execution_count": 2,
   "metadata": {
    "id": "UbQTk1ZMPyNq"
   },
   "outputs": [],
   "source": [
    "# encoding the probabilities as a numpy array\n",
    "trans_array = np.array([\n",
    "    [0.002, 0.666, 0.31, 0, 0.022],\n",
    "    [0.466, 0.102, 0.222, 0, 0.21],\n",
    "    [0.022, 0.11, 0.502, 0, 0.366],\n",
    "    [0, 0, 0, 1, 0],\n",
    "    [0.11, 0.122, 0.066, 0, 0.702]\n",
    "])\n",
    "# ensures that the probabilities sum to 1\n",
    "assert(trans_array[0].sum() == 1.0)\n",
    "assert(trans_array[1].sum() == 1.0)\n",
    "assert(trans_array[2].sum() == 1.0)\n",
    "assert(trans_array[3].sum() == 1.0)\n",
    "assert(trans_array[4].sum() == 1.0)\n",
    "\n",
    "\n",
    "\n",
    "# encoding the initial probability of as a numpy array\n",
    "state = np.array([[0.3, 0.4, 0.1, 0.15, 0.05]])\n",
    "assert(state[0].sum() == 1.0)"
   ]
  },
  {
   "cell_type": "markdown",
   "metadata": {},
   "source": [
    "### Q1.1 <br>\n",
    "Chapman-Kolmogorov Relationship Technique can be used to find the probability of people going to coorect unit to report their crime after N days.<br>\n",
    "That is p[i]*[p[j]^N]\n",
    "\n",
    "### Q1.2<br>\n",
    "the chain can be reduced. we can say this because there are few Zero values in the First Order Markov Chain result. Which means that not all the states are communicable with each other.\n",
    "When all the states are communicable with each other then we can say that they are irreducible, but here since all the states are not communicable we can conclude that the state can be reduced."
   ]
  },
  {
   "cell_type": "markdown",
   "metadata": {},
   "source": [
    "### Q1.3"
   ]
  },
  {
   "cell_type": "code",
   "execution_count": 3,
   "metadata": {},
   "outputs": [
    {
     "name": "stdout",
     "output_type": "stream",
     "text": [
      "intital probability of a person going to a particular unit after 1 days :\n",
      " [0.1435072 0.2016392 0.2463988 0.15      0.2584548]\n",
      "intital probability of a person going to a particular unit after 2 days :\n",
      " [0.12810168 0.17477835 0.23000135 0.15       0.31711862]\n",
      "intital probability of a person going to a particular unit after 1000 days :\n",
      " [0.1214373  0.16411091 0.19739717 0.15       0.36705462]\n",
      "intital probability of a person going to a particular unit after 1001 days :\n",
      " [0.1214373  0.16411091 0.19739717 0.15       0.36705462]\n"
     ]
    }
   ],
   "source": [
    "#Q3\n",
    "\n",
    "import numpy as np\n",
    "matrix_A=np.array([0.3,0.4,0.1,0.15,0.05])\n",
    "matrix_B=np.array([\n",
    "    [0.002, 0.666, 0.31, 0, 0.022],\n",
    "    [0.466, 0.102, 0.222, 0, 0.21],\n",
    "    [0.022, 0.11, 0.502, 0, 0.366],\n",
    "    [0, 0, 0, 1, 0],\n",
    "    [0.11, 0.122, 0.066, 0, 0.702]\n",
    "])\n",
    "matrix_C = matrix_A\n",
    "n=1002\n",
    "for i in range(n):\n",
    "    matrix_C=np.dot(matrix_C,matrix_B)\n",
    "    if(i==1 or i == 2 or i==1000 or i==1001):\n",
    "        print(\"intital probability of a person going to a particular unit after\",i,\"days :\\n\",matrix_C)"
   ]
  },
  {
   "cell_type": "markdown",
   "metadata": {},
   "source": [
    "### Q1.4 \n",
    "The Probability of going to a particular state is same for both day 1000 and 1001.Hence, the Markov Chain Converges or in other words we can say the markov chains has reached a Steady State.<br>\n",
    "On comparing the initial values and the day 1000 values we can see that the probablity of a person going to a particular unit has increased for <b>Theft</b>,<b>General Crimes</b>, the probability has remained same for <b>Feedback</b> and probability has actually reduced for <b>Major Crimes</b>,<b>Triffic</b></br></br>"
   ]
  },
  {
   "cell_type": "markdown",
   "metadata": {
    "id": "sf_CCUyONV-f"
   },
   "source": [
    "---\n",
    "\n",
    "After analysing the model Captain holt calls the squad and educates them to ask people to give feedbacks. And the details of the squad are given to the **_Move-o-Tron 99_**. After reanalyising the report the **_Move-o-Tron 99_** gave out a new Matrix, which is shown below\n",
    "\n",
    "| |Major Crimes|Traffic|General crimes|Feedback|Theft|\n",
    "|---|---|---|---|---|---|\n",
    "|Major Crimes|0\\.002|0\\.666|0\\.01|0\\.02|0\\.302|\n",
    "|Traffic|0\\.466|0\\.102|0\\.02|0\\.032|0\\.38|\n",
    "|General crimes|0\\.0|0\\.0|1\\.0|0\\.0|0\\.0|\n",
    "|Feedback|0\\.0|0\\.0|0\\.0|1\\.0|0\\.0|\n",
    "|Theft|0\\.11|0\\.122|0\\.066|0\\.004|0\\.698|\n",
    "\n",
    "<br>\n",
    "Considering the new report the model has to be re-evaluated. The initial probablity of a person going to a particular unit on a particular day remains the same.\n",
    "<br>\n",
    "\n",
    "\n",
    "\n"
   ]
  },
  {
   "cell_type": "markdown",
   "metadata": {
    "id": "bVIGVQhMUthf"
   },
   "source": [
    "## Problem 2 (4 points)\n",
    "\n",
    "\n",
    "1. Is the chain irreducible? Justify (0.5 point)\n",
    "2. What will be the intital probability of a person going to a particular unit after 1 day, 2 days, 10 days, 1000 days and 1001 days. (1 point)\n",
    " \n",
    " Hint: Use the  Chapman−Kolmogorov relationship\n",
    "\n",
    "3. What can you say about the markov chain from state of intital probability of a person going to a particular unit after 1000 and 1001 days? (0.5 points)\n",
    "\n",
    "\n",
    "4. Summer Edgecombe is Confidential Informant (CI) to the Officer Kimbal Cho and comes in every day to the police station. If on the first day she goes to the Major crimes Unit what will be the probability that she gives a feedback? (2 points)\n",
    "\n",
    "    ```python\n",
    "    # np.delete()\n",
    "    # https://note.nkmk.me/en/python-numpy-delete/#:~:text=Using%20the%20NumPy%20function%20np,from%20the%20NumPy%20array%20ndarray%20.&text=Specify%20the%20axis%20(dimension)%20and,a%20slice%20or%20a%20list.\n",
    "\n",
    "    print(a)\n",
    "    # [[ 0  1  2  3]\n",
    "    #  [ 4  5  6  7]\n",
    "    #  [ 8  9 10 11]]\n",
    "\n",
    "    print(np.delete(a, 1, 0))\n",
    "    # [[ 0  1  2  3]\n",
    "    #  [ 8  9 10 11]]\n",
    "\n",
    "    print(np.delete(a, 1, 1))\n",
    "    # [[ 0  2  3]\n",
    "    #  [ 4  6  7]\n",
    "    #  [ 8 10 11]]\n",
    "\n",
    "    # Deleting multiple rows or columns\n",
    "    print(np.delete(a, [0, 3], 1))\n",
    "    # [[ 1  2]\n",
    "    #  [ 5  6]\n",
    "    #  [ 9 10]]\n",
    "\n",
    "    # Deleting rows and columns\n",
    "    print(np.delete(np.delete(a, 1, 0), 1, 1))\n",
    "    # [[ 0  2  3]\n",
    "    #  [ 8 10 11]]\n",
    "\n",
    "    # matrix multiplication or cross pdt C = A*B\n",
    "    matrix_C = matrix_A @ matrix_B # matrix_C = np.matmul(matrix_A, matrix_B)\n",
    "\n",
    "    ```"
   ]
  },
  {
   "cell_type": "code",
   "execution_count": 4,
   "metadata": {
    "id": "7cO2IP4BL3PC"
   },
   "outputs": [],
   "source": [
    "# encoding the probabilities as a numpy array\n",
    "trans_array = np.array([\n",
    "    [0.002, 0.666, 0.01, 0.020, 0.302],\n",
    "    [0.466, 0.102, 0.02, 0.032, 0.38],\n",
    "    [0.0, 0.0, 1, 0.0, 0.0],\n",
    "    [0, 0, 0, 1, 0],\n",
    "    [0.11, 0.122, 0.066, 0.004, 0.698]\n",
    "])\n",
    "\n",
    "# ensures that the probabilities sum to 1\n",
    "assert(trans_array[0].sum() == 1.0)\n",
    "assert(trans_array[1].sum() == 1.0)\n",
    "assert(trans_array[2].sum() == 1.0)\n",
    "assert(trans_array[3].sum() == 1.0)\n",
    "assert(trans_array[4].sum() == 1.0)\n",
    "\n",
    "# encoding the initial probability of as a numpy array\n",
    "state = np.array([[0.3, 0.4, 0.1, 0.15, 0.05]])\n",
    "assert(state[0].sum() == 1.0)\n"
   ]
  },
  {
   "cell_type": "markdown",
   "metadata": {},
   "source": [
    "### Q2.1\n",
    " Here the Markov Chain is Reducable.<br>A Markov chain is called irreducible if all states of the chain communicate with each other. All the states can Communicate with each other when there are no Zero values in the Markov state. But we have Zero values in the state so we can conclude that that the Markov Chain is not irreducible(it is reducible)\n"
   ]
  },
  {
   "cell_type": "markdown",
   "metadata": {},
   "source": [
    "### Q2.2"
   ]
  },
  {
   "cell_type": "code",
   "execution_count": 5,
   "metadata": {},
   "outputs": [
    {
     "name": "stdout",
     "output_type": "stream",
     "text": [
      "intital probability of a person going to a particular unit after 1 days :\n",
      " [[0.1458722 0.1872234 0.139474  0.1818544 0.345576 ]]\n",
      "intital probability of a person going to a particular unit after 2 days :\n",
      " [[0.12555121 0.15840794 0.16748521 0.1921453  0.35641034]]\n",
      "intital probability of a person going to a particular unit after 1000 days :\n",
      " [[8.44851901e-28 1.06389804e-27 6.60595331e-01 3.39404669e-01\n",
      "  2.70848815e-27]]\n",
      "intital probability of a person going to a particular unit after 1001 days :\n",
      " [[7.95399887e-28 1.00162452e-27 6.60595331e-01 3.39404669e-01\n",
      "  2.54995126e-27]]\n"
     ]
    }
   ],
   "source": [
    "#Q2\n",
    "matrix_A = np.array([[0.3, 0.4, 0.1, 0.15, 0.05]])\n",
    "\n",
    "matrix_B=np.array([\n",
    "    [0.002, 0.666, 0.01, 0.020, 0.302],\n",
    "    [0.466, 0.102, 0.02, 0.032, 0.38],\n",
    "    [0.0, 0.0, 1, 0.0, 0.0],\n",
    "    [0, 0, 0, 1, 0],\n",
    "    [0.11, 0.122, 0.066, 0.004, 0.698]\n",
    "])\n",
    "\n",
    "\n",
    "\n",
    "matrix_C = matrix_A\n",
    "n=1002\n",
    "for i in range(n):\n",
    "    matrix_C=np.dot(matrix_C,matrix_B)\n",
    "    if(i==1 or i == 2 or i==1000 or i==1001):\n",
    "        print(\"intital probability of a person going to a particular unit after\",i,\"days :\\n\",matrix_C)\n"
   ]
  },
  {
   "cell_type": "markdown",
   "metadata": {},
   "source": [
    "### Q2.3\n",
    "From the above probabilities we can notice that there is a very small difference among the initial probabilities with respect to day 1000 and day 1001.<br>\n",
    "Hence the state probabilities do not converge till 1001 days. In other words we can say that the Markov chain is not in steady state"
   ]
  },
  {
   "cell_type": "markdown",
   "metadata": {},
   "source": [
    "### Q2.4"
   ]
  },
  {
   "cell_type": "code",
   "execution_count": 6,
   "metadata": {},
   "outputs": [],
   "source": [
    "# encoding the probabilities as a numpy array\n",
    "trans_array = np.array([\n",
    "    [1.0,0.0,0.0,0.0,0.0],\n",
    "    [0.0,1.0,0.0,0.0,0.0],\n",
    "    [0.01,0.02,0.002,0.666,0.302],\n",
    "    [0.02,0.032,0.466,0.102,0.38],\n",
    "    [0.066,0.004,0.11,0.122,0.698]\n",
    "])\n",
    "\n",
    "# ensures that the probabilities sum to 1\n",
    "assert(trans_array[0].sum() == 1.0)\n",
    "assert(trans_array[1].sum() == 1.0)\n",
    "assert(trans_array[2].sum() == 1.0)\n",
    "assert(trans_array[3].sum() == 1.0)\n",
    "assert(trans_array[4].sum() == 1.0)\n",
    "#after changing the matrix to go to the canonical form initial probabilities :\n",
    "#[0.0,0.0,1.0,0.0,0.0]\n",
    "# encoding the initial probability of as a numpy array\n",
    "state = np.array([[0.0,0.0,1.0,0.0,0.0]])\n",
    "assert(state[0].sum() == 1.0)"
   ]
  },
  {
   "cell_type": "code",
   "execution_count": 7,
   "metadata": {},
   "outputs": [
    {
     "name": "stdout",
     "output_type": "stream",
     "text": [
      "Matrix R :\n",
      "[[0.01  0.02 ]\n",
      " [0.02  0.032]\n",
      " [0.066 0.004]]\n"
     ]
    }
   ],
   "source": [
    "\n",
    "# R and Q matrices\n",
    "temp = np.delete(trans_array,[0,1],0)\n",
    "temp = np.delete(temp,[2,3,4],1)\n",
    "\n",
    "matrix_R= temp\n",
    "print(\"Matrix R :\")\n",
    "print(matrix_R)"
   ]
  },
  {
   "cell_type": "code",
   "execution_count": 8,
   "metadata": {},
   "outputs": [
    {
     "name": "stdout",
     "output_type": "stream",
     "text": [
      "Matrix Q :\n",
      "[[0.002 0.666 0.302]\n",
      " [0.466 0.102 0.38 ]\n",
      " [0.11  0.122 0.698]]\n"
     ]
    }
   ],
   "source": [
    "temp = np.delete(trans_array,[0,1],0)\n",
    "temp = np.delete(temp,[0,1],1)\n",
    "\n",
    "matrix_Q= temp\n",
    "print(\"Matrix Q :\")\n",
    "print(matrix_Q)"
   ]
  },
  {
   "cell_type": "code",
   "execution_count": 9,
   "metadata": {},
   "outputs": [
    {
     "name": "stdout",
     "output_type": "stream",
     "text": [
      "fundamental_matrix :\n",
      " [[ 4.0279365   4.26333958  9.39240352]\n",
      " [ 3.27006043  4.80437252  9.31529737]\n",
      " [ 2.78814698  3.49371126 10.49546579]]\n"
     ]
    }
   ],
   "source": [
    "# calculation of fundamental matrix:\n",
    "matrix_I=np.identity(3, dtype = None)\n",
    "\n",
    "matrix_F = np.linalg.inv(matrix_I-matrix_Q)\n",
    "print(\"fundamental_matrix :\\n\",matrix_F)\n",
    "\n"
   ]
  },
  {
   "cell_type": "code",
   "execution_count": 10,
   "metadata": {},
   "outputs": [
    {
     "name": "stdout",
     "output_type": "stream",
     "text": [
      "eventual probability : \n",
      " [[0.74544479 0.25455521]\n",
      " [0.74359768 0.25640232]\n",
      " [0.79045644 0.20954356]]\n"
     ]
    }
   ],
   "source": [
    "#Calculating the eventual probability:\n",
    "matrix_eventual = np.dot(matrix_F, matrix_R)\n",
    "print(\"eventual probability : \\n\",matrix_eventual)"
   ]
  },
  {
   "cell_type": "raw",
   "metadata": {},
   "source": [
    "Probability that she gives a feedback = matrix_eventual_prob [major crimes][feedback] \n",
    "                                      = [0][1] \n",
    "                                      = 0.2545"
   ]
  },
  {
   "cell_type": "markdown",
   "metadata": {
    "id": "nyDYo_MvZNO-"
   },
   "source": [
    "## Problem 3 (4 points)\n",
    "\n",
    "It seems that there is a bug in **_Move-o-Tron 99_** which makes general crimes and feedback units as absorbing states. After updating the software of **_Move-o-Tron 99_**, Captain Holt wants to find out the effect that Amy Santiago has on the probability of a person giving feedback. So one matrix is generated including Santiago and the other one without. \n",
    "\n",
    "Matrix 1 (With Santiago)\n",
    "\n",
    "| |Major Crimes|Traffic|General crimes|Feedback|Theft|\n",
    "|---|---|---|---|---|---|\n",
    "|Major Crimes|0\\.002|0\\.232|0\\.31|0\\.434|0\\.022|\n",
    "|Traffic|0\\.426|0\\.102|0\\.222|0\\.04|0\\.21|\n",
    "|General crimes|0\\.03|0\\.11|0\\.2|0\\.294|0\\.366|\n",
    "|Feedback|0\\.003|0\\.176|0\\.321|0\\.3|0\\.2|\n",
    "|Theft|0\\.11|0\\.422|0\\.166|0\\.1|0\\.202|\n",
    "\n",
    "Matrix 2 (Without Santiago)\n",
    "\n",
    "| |Major Crimes|Traffic|General crimes|Feedback|Theft|\n",
    "|---|---|---|---|---|---|\n",
    "|Major Crimes|0\\.11|0\\.222|0\\.092|0\\.374|0\\.202|\n",
    "|Traffic|0\\.03|0\\.11|0\\.2|0\\.294|0\\.366|\n",
    "|General crimes|0\\.002|0\\.232|0\\.31|0\\.434|0\\.022|\n",
    "|Feedback|0\\.466|0\\.102|0\\.02|0\\.032|0\\.38|\n",
    "|Theft|0\\.003|0\\.176|0\\.321|0\\.3|0\\.2|\n",
    "\n",
    "<br>\n",
    "\n",
    "1. How can you find out the effect that Santiago has on the probability of feedback? (1 point)\n",
    "\n",
    "2. What effect does Santiago have one the probability of getting feedback? (1 point)\n",
    "\n",
    "    Note: The initial probablity of a person going to a particular unit on a particular day remains the same\n",
    "\n",
    "3. Name the test Captain Holt is performing. (0.5 points)\n",
    "\n",
    "Lina Ginetti reports to Captain Holt that the there two kinds of days in the precicnt _\"There are normal days and then there are days where workflow is dismal with a tiny dash of pathetic.\"_. Captain Holt decided to sample the initial probablity of a person going to a particular unit on a good day and a bad day.\n",
    "\n",
    "4. Without the information about these inital probabilities, can you tell if there is any difference in the probability of getting a feedback? Explain. (1.5 points)\n",
    "\n"
   ]
  },
  {
   "cell_type": "code",
   "execution_count": 11,
   "metadata": {
    "id": "KYvJfAKIigsp"
   },
   "outputs": [],
   "source": [
    "# encoding the probabilities as a numpy array\n",
    "# With Santiago\n",
    "trans_array_with_amy = np.array([\n",
    "    [0.002, 0.232, 0.31, 0.434, 0.022],\n",
    "    [0.426, 0.102, 0.222, 0.04, 0.21],\n",
    "    [0.03, 0.11, 0.20, 0.294, 0.366],\n",
    "    [0.003, 0.176, 0.321, 0.3, 0.2],\n",
    "    [0.11, 0.422, 0.166, 0.1, 0.202]\n",
    "])\n",
    "\n",
    "# Without Santiago\n",
    "trans_array_without_amy = np.array([\n",
    "    [0.11, 0.222, 0.092, 0.374, 0.202],\n",
    "    [0.03, 0.11, 0.20, 0.294, 0.366],\n",
    "    [0.002, 0.232, 0.31, 0.434, 0.022],\n",
    "    [0.466, 0.102, 0.02, 0.032, 0.38],\n",
    "    [0.003, 0.176, 0.321, 0.3, 0.2]\n",
    "])\n",
    "\n",
    "# ensures that the probabilities sum to 1\n",
    "assert(trans_array_with_amy[0].sum() == 1.0)\n",
    "assert(trans_array_with_amy[1].sum() == 1.0)\n",
    "assert(trans_array_with_amy[2].sum() == 1.0)\n",
    "assert(trans_array_with_amy[3].sum() == 1.0)\n",
    "assert(trans_array_with_amy[4].sum() == 1.0)\n",
    "\n",
    "assert(trans_array_without_amy[0].sum() == 1.0)\n",
    "assert(trans_array_without_amy[1].sum() == 1.0)\n",
    "assert(trans_array_without_amy[2].sum() == 1.0)\n",
    "assert(trans_array_without_amy[3].sum() == 1.0)\n",
    "assert(trans_array_without_amy[4].sum() == 1.0)\n",
    "\n",
    "# encoding the initial probability of as a numpy array\n",
    "state = np.array([[0.3, 0.4, 0.1, 0.15, 0.05]])\n",
    "assert(state[0].sum() == 1.0)\n"
   ]
  },
  {
   "cell_type": "markdown",
   "metadata": {},
   "source": [
    "### Q3.1"
   ]
  },
  {
   "cell_type": "markdown",
   "metadata": {},
   "source": [
    "We can perform A/B testing to find out the effect that Santiago has on the probability of feedback.<br>\n",
    "That is different ppl are taken in two groups A and B and subjected to with and without santiago respectively and found out the effect"
   ]
  },
  {
   "cell_type": "markdown",
   "metadata": {},
   "source": [
    "### Q3.2\n"
   ]
  },
  {
   "cell_type": "code",
   "execution_count": 12,
   "metadata": {},
   "outputs": [
    {
     "name": "stdout",
     "output_type": "stream",
     "text": [
      "With Santiago:\n",
      " [[0.17995 0.1689  0.25825 0.2256  0.1673 ]]\n"
     ]
    }
   ],
   "source": [
    "#Q2\n",
    "\n",
    "#with santigo\n",
    "m=np.matmul(state,trans_array_with_amy)\n",
    "print(\"With Santiago:\\n\",m)"
   ]
  },
  {
   "cell_type": "code",
   "execution_count": 13,
   "metadata": {},
   "outputs": [
    {
     "name": "stdout",
     "output_type": "stream",
     "text": [
      "Without Santiago:\n",
      " [[0.11525 0.1579  0.15765 0.293   0.2762 ]]\n"
     ]
    }
   ],
   "source": [
    "#without santigo\n",
    "m=np.matmul(state,trans_array_without_amy)\n",
    "print(\"Without Santiago:\\n\",m)"
   ]
  },
  {
   "cell_type": "markdown",
   "metadata": {},
   "source": [
    "Santiago's Presence Decreases the feedback."
   ]
  },
  {
   "cell_type": "markdown",
   "metadata": {},
   "source": [
    "### Q3.3\n",
    " the test Captain Holt is performing is Anderson Goodman - Chi Squared Test."
   ]
  },
  {
   "cell_type": "markdown",
   "metadata": {},
   "source": [
    "### Q3.4\n",
    "Without knowing the initial probability there would be a difference in the probability in getting the feedback.<br>\n",
    "Solution for this is the chi-squared test on the transition matrix and finding the chi squared value and the subsequent p-value to see if the transition matrix is following the markov chain.<br> we can get the steady state probability matrix and can estimate the probability of getting feedback.<br>\n",
    "Using this we can perform A/B testing."
   ]
  }
 ],
 "metadata": {
  "colab": {
   "authorship_tag": "ABX9TyP0Oo8PX6zMO0m5J7Yg9jGV",
   "collapsed_sections": [],
   "provenance": [
    {
     "file_id": "151Zxha9bZOT9kWU3BfcQy54GEwgzfNns",
     "timestamp": 1666163344521
    }
   ]
  },
  "kernelspec": {
   "display_name": "Python 3",
   "language": "python",
   "name": "python3"
  },
  "language_info": {
   "codemirror_mode": {
    "name": "ipython",
    "version": 3
   },
   "file_extension": ".py",
   "mimetype": "text/x-python",
   "name": "python",
   "nbconvert_exporter": "python",
   "pygments_lexer": "ipython3",
   "version": "3.8.8"
  }
 },
 "nbformat": 4,
 "nbformat_minor": 1
}
